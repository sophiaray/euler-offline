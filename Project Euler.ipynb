{
 "cells": [
  {
   "cell_type": "code",
   "execution_count": 155,
   "metadata": {
    "scrolled": true
   },
   "outputs": [
    {
     "name": "stdout",
     "output_type": "stream",
     "text": [
      "Populating the interactive namespace from numpy and matplotlib\n"
     ]
    },
    {
     "name": "stderr",
     "output_type": "stream",
     "text": [
      "/usr/local/lib/python3.6/site-packages/IPython/core/magics/pylab.py:160: UserWarning: pylab import has clobbered these variables: ['square', 'number']\n",
      "`%matplotlib` prevents importing * from pylab and numpy\n",
      "  \"\\n`%matplotlib` prevents importing * from pylab and numpy\"\n"
     ]
    }
   ],
   "source": [
    "%pylab inline\n",
    "import euler,time,itertools,pandas,numpy\n",
    "from imp import reload\n",
    "from fractions import Fraction\n",
    "from collections import Counter\n",
    "from math import factorial\n",
    "import networkx as nx"
   ]
  },
  {
   "cell_type": "markdown",
   "metadata": {},
   "source": [
    "# Problem 1"
   ]
  },
  {
   "cell_type": "code",
   "execution_count": 6,
   "metadata": {},
   "outputs": [
    {
     "data": {
      "text/plain": [
       "233168"
      ]
     },
     "execution_count": 6,
     "metadata": {},
     "output_type": "execute_result"
    }
   ],
   "source": [
    "multiples = [i for i in range(999,1,-1) if (i%3==0) or (i%5==0)]\n",
    "sum(multiples)"
   ]
  },
  {
   "cell_type": "markdown",
   "metadata": {},
   "source": [
    "# Problem 2"
   ]
  },
  {
   "cell_type": "code",
   "execution_count": 3,
   "metadata": {},
   "outputs": [
    {
     "data": {
      "text/plain": [
       "4613732"
      ]
     },
     "execution_count": 3,
     "metadata": {},
     "output_type": "execute_result"
    }
   ],
   "source": [
    "def SubFibEven(startNumber, endNumber):\n",
    "    for cur in euler.F():\n",
    "        if cur%2==0:\n",
    "            if cur > endNumber: return\n",
    "            if cur >= startNumber:\n",
    "                yield cur\n",
    "\n",
    "sum(SubFibEven(0, 4*10**6))"
   ]
  },
  {
   "cell_type": "markdown",
   "metadata": {},
   "source": [
    "# Problem 3"
   ]
  },
  {
   "cell_type": "code",
   "execution_count": 4,
   "metadata": {},
   "outputs": [
    {
     "data": {
      "text/plain": [
       "6857"
      ]
     },
     "execution_count": 4,
     "metadata": {},
     "output_type": "execute_result"
    }
   ],
   "source": [
    "def prime_factor(x):\n",
    "    f = 2\n",
    "    while True:\n",
    "        if x%f==0:\n",
    "            x = x/f\n",
    "            yield f\n",
    "        elif f < x:\n",
    "            f += 1\n",
    "        else:\n",
    "            return\n",
    "max(prime_factor(600851475143))"
   ]
  },
  {
   "cell_type": "markdown",
   "metadata": {},
   "source": [
    "# Problem 4"
   ]
  },
  {
   "cell_type": "code",
   "execution_count": 1,
   "metadata": {},
   "outputs": [
    {
     "ename": "NameError",
     "evalue": "name 'prod' is not defined",
     "output_type": "error",
     "traceback": [
      "\u001b[0;31m---------------------------------------------------------------------------\u001b[0m",
      "\u001b[0;31mNameError\u001b[0m                                 Traceback (most recent call last)",
      "\u001b[0;32m<ipython-input-1-d991c0466007>\u001b[0m in \u001b[0;36m<module>\u001b[0;34m()\u001b[0m\n\u001b[1;32m      1\u001b[0m \u001b[0;32mfrom\u001b[0m \u001b[0mitertools\u001b[0m \u001b[0;32mimport\u001b[0m \u001b[0mcombinations\u001b[0m\u001b[0;34m\u001b[0m\u001b[0m\n\u001b[1;32m      2\u001b[0m \u001b[0mn\u001b[0m \u001b[0;34m=\u001b[0m \u001b[0mrange\u001b[0m\u001b[0;34m(\u001b[0m\u001b[0;36m100\u001b[0m\u001b[0;34m,\u001b[0m\u001b[0;36m1000\u001b[0m\u001b[0;34m)\u001b[0m\u001b[0;34m\u001b[0m\u001b[0m\n\u001b[0;32m----> 3\u001b[0;31m \u001b[0mp\u001b[0m \u001b[0;34m=\u001b[0m \u001b[0;34m{\u001b[0m\u001b[0mprod\u001b[0m\u001b[0;34m(\u001b[0m\u001b[0mi\u001b[0m\u001b[0;34m)\u001b[0m \u001b[0;32mfor\u001b[0m \u001b[0mi\u001b[0m \u001b[0;32min\u001b[0m \u001b[0mcombinations\u001b[0m\u001b[0;34m(\u001b[0m\u001b[0mn\u001b[0m\u001b[0;34m,\u001b[0m\u001b[0;36m2\u001b[0m\u001b[0;34m)\u001b[0m\u001b[0;34m}\u001b[0m\u001b[0;34m\u001b[0m\u001b[0m\n\u001b[0m\u001b[1;32m      4\u001b[0m \u001b[0mpal\u001b[0m \u001b[0;34m=\u001b[0m \u001b[0;34m[\u001b[0m\u001b[0mi\u001b[0m \u001b[0;32mfor\u001b[0m \u001b[0mi\u001b[0m \u001b[0;32min\u001b[0m \u001b[0mp\u001b[0m \u001b[0;32mif\u001b[0m \u001b[0mstr\u001b[0m\u001b[0;34m(\u001b[0m\u001b[0mi\u001b[0m\u001b[0;34m)\u001b[0m\u001b[0;34m==\u001b[0m\u001b[0mstr\u001b[0m\u001b[0;34m(\u001b[0m\u001b[0mi\u001b[0m\u001b[0;34m)\u001b[0m\u001b[0;34m[\u001b[0m\u001b[0;34m:\u001b[0m\u001b[0;34m:\u001b[0m\u001b[0;34m-\u001b[0m\u001b[0;36m1\u001b[0m\u001b[0;34m]\u001b[0m\u001b[0;34m]\u001b[0m\u001b[0;34m\u001b[0m\u001b[0m\n\u001b[1;32m      5\u001b[0m \u001b[0mmax\u001b[0m\u001b[0;34m(\u001b[0m\u001b[0mpal\u001b[0m\u001b[0;34m)\u001b[0m\u001b[0;34m\u001b[0m\u001b[0m\n",
      "\u001b[0;32m<ipython-input-1-d991c0466007>\u001b[0m in \u001b[0;36m<setcomp>\u001b[0;34m(.0)\u001b[0m\n\u001b[1;32m      1\u001b[0m \u001b[0;32mfrom\u001b[0m \u001b[0mitertools\u001b[0m \u001b[0;32mimport\u001b[0m \u001b[0mcombinations\u001b[0m\u001b[0;34m\u001b[0m\u001b[0m\n\u001b[1;32m      2\u001b[0m \u001b[0mn\u001b[0m \u001b[0;34m=\u001b[0m \u001b[0mrange\u001b[0m\u001b[0;34m(\u001b[0m\u001b[0;36m100\u001b[0m\u001b[0;34m,\u001b[0m\u001b[0;36m1000\u001b[0m\u001b[0;34m)\u001b[0m\u001b[0;34m\u001b[0m\u001b[0m\n\u001b[0;32m----> 3\u001b[0;31m \u001b[0mp\u001b[0m \u001b[0;34m=\u001b[0m \u001b[0;34m{\u001b[0m\u001b[0mprod\u001b[0m\u001b[0;34m(\u001b[0m\u001b[0mi\u001b[0m\u001b[0;34m)\u001b[0m \u001b[0;32mfor\u001b[0m \u001b[0mi\u001b[0m \u001b[0;32min\u001b[0m \u001b[0mcombinations\u001b[0m\u001b[0;34m(\u001b[0m\u001b[0mn\u001b[0m\u001b[0;34m,\u001b[0m\u001b[0;36m2\u001b[0m\u001b[0;34m)\u001b[0m\u001b[0;34m}\u001b[0m\u001b[0;34m\u001b[0m\u001b[0m\n\u001b[0m\u001b[1;32m      4\u001b[0m \u001b[0mpal\u001b[0m \u001b[0;34m=\u001b[0m \u001b[0;34m[\u001b[0m\u001b[0mi\u001b[0m \u001b[0;32mfor\u001b[0m \u001b[0mi\u001b[0m \u001b[0;32min\u001b[0m \u001b[0mp\u001b[0m \u001b[0;32mif\u001b[0m \u001b[0mstr\u001b[0m\u001b[0;34m(\u001b[0m\u001b[0mi\u001b[0m\u001b[0;34m)\u001b[0m\u001b[0;34m==\u001b[0m\u001b[0mstr\u001b[0m\u001b[0;34m(\u001b[0m\u001b[0mi\u001b[0m\u001b[0;34m)\u001b[0m\u001b[0;34m[\u001b[0m\u001b[0;34m:\u001b[0m\u001b[0;34m:\u001b[0m\u001b[0;34m-\u001b[0m\u001b[0;36m1\u001b[0m\u001b[0;34m]\u001b[0m\u001b[0;34m]\u001b[0m\u001b[0;34m\u001b[0m\u001b[0m\n\u001b[1;32m      5\u001b[0m \u001b[0mmax\u001b[0m\u001b[0;34m(\u001b[0m\u001b[0mpal\u001b[0m\u001b[0;34m)\u001b[0m\u001b[0;34m\u001b[0m\u001b[0m\n",
      "\u001b[0;31mNameError\u001b[0m: name 'prod' is not defined"
     ]
    }
   ],
   "source": [
    "from itertools import combinations\n",
    "n = range(100,1000)\n",
    "p = {prod(i) for i in combinations(n,2)}\n",
    "pal = [i for i in p if str(i)==str(i)[::-1]]\n",
    "max(pal)"
   ]
  },
  {
   "cell_type": "markdown",
   "metadata": {},
   "source": [
    "# Problem 5"
   ]
  },
  {
   "cell_type": "code",
   "execution_count": 3,
   "metadata": {},
   "outputs": [
    {
     "data": {
      "text/plain": [
       "232792560"
      ]
     },
     "execution_count": 3,
     "metadata": {},
     "output_type": "execute_result"
    }
   ],
   "source": [
    "def divisible_thru_19(target):\n",
    "    divisible = True\n",
    "    d = 19\n",
    "    while divisible:\n",
    "        if target % d != 0:\n",
    "            divisible = False\n",
    "        if d == 3:\n",
    "            break\n",
    "        else:\n",
    "            d -= 1\n",
    "    return divisible\n",
    "\n",
    "candidate = 40\n",
    "divisible = False\n",
    "\n",
    "while not divisible:\n",
    "    if divisible_thru_19(candidate):\n",
    "        divisible = True\n",
    "    else:\n",
    "        candidate += 20\n",
    "candidate"
   ]
  },
  {
   "cell_type": "markdown",
   "metadata": {},
   "source": [
    "# Problem 6"
   ]
  },
  {
   "cell_type": "code",
   "execution_count": 7,
   "metadata": {},
   "outputs": [
    {
     "data": {
      "text/plain": [
       "25164150"
      ]
     },
     "execution_count": 7,
     "metadata": {},
     "output_type": "execute_result"
    }
   ],
   "source": [
    "sum(range(1,101))**2 - sum([i**2 for i in range(1,101)])"
   ]
  },
  {
   "cell_type": "markdown",
   "metadata": {},
   "source": [
    "# Problem 7"
   ]
  },
  {
   "cell_type": "code",
   "execution_count": 8,
   "metadata": {},
   "outputs": [
    {
     "data": {
      "text/plain": [
       "104743"
      ]
     },
     "execution_count": 8,
     "metadata": {},
     "output_type": "execute_result"
    }
   ],
   "source": [
    "def is_prime(n):\n",
    "    prime_flag = True\n",
    "    for i in range(2,n//2+1):\n",
    "        if n%i == 0:\n",
    "            prime_flag = False\n",
    "            break\n",
    "    return prime_flag\n",
    "\n",
    "n = 0\n",
    "i = 2\n",
    "stop_flag = False\n",
    "while not stop_flag:\n",
    "    if is_prime(i):\n",
    "        n += 1\n",
    "    if n == 10001:\n",
    "        stop_flag = True\n",
    "    else:\n",
    "        i += 1\n",
    "i"
   ]
  },
  {
   "cell_type": "markdown",
   "metadata": {},
   "source": [
    "# Problem 8"
   ]
  },
  {
   "cell_type": "code",
   "execution_count": 9,
   "metadata": {},
   "outputs": [
    {
     "data": {
      "text/plain": [
       "[23514624000, 197]"
      ]
     },
     "execution_count": 9,
     "metadata": {},
     "output_type": "execute_result"
    }
   ],
   "source": [
    "one_thousand = \"7316717653133062491922511967442657474235534919493496983520312774506326239578318016984801869478851843858615607891129494954595017379583319528532088055111254069874715852386305071569329096329522744304355766896648950445244523161731856403098711121722383113622298934233803081353362766142828064444866452387493035890729629049156044077239071381051585930796086670172427121883998797908792274921901699720888093776657273330010533678812202354218097512545405947522435258490771167055601360483958644670632441572215539753697817977846174064955149290862569321978468622482839722413756570560574902614079729686524145351004748216637048440319989000889524345065854122758866688116427171479924442928230863465674813919123162824586178664583591245665294765456828489128831426076900422421902267105562632111110937054421750694165896040807198403850962455444362981230987879927244284909188845801561660979191338754992005240636899125607176060588611646710940507754100225698315520005593572972571636269561882670428252483600823257530420752963450\"\n",
    "one_thousand_list = [int(i) for i in one_thousand]\n",
    "best = [0, 0]\n",
    "for i in range(len(one_thousand_list)-13):\n",
    "    if prod(one_thousand_list[i:i+13]) > best[0]:\n",
    "        best = [prod(one_thousand_list[i:i+13]), i]\n",
    "best"
   ]
  },
  {
   "cell_type": "markdown",
   "metadata": {},
   "source": [
    "# Problem 9"
   ]
  },
  {
   "cell_type": "code",
   "execution_count": 10,
   "metadata": {},
   "outputs": [
    {
     "data": {
      "text/plain": [
       "31875000.0"
      ]
     },
     "execution_count": 10,
     "metadata": {},
     "output_type": "execute_result"
    }
   ],
   "source": [
    "from itertools import combinations\n",
    "candidates = [ [c[0], c[1], sqrt(c[0]**2+c[1]**2)] for c in combinations(range(1,999),2) \n",
    "              if sqrt(c[0]**2+c[1]**2)%1==0 ]\n",
    "candidates = [c for c in candidates if sum(c)==1000]\n",
    "answer = candidates[0]\n",
    "prod(answer)"
   ]
  },
  {
   "cell_type": "markdown",
   "metadata": {},
   "source": [
    "# Problem 10"
   ]
  },
  {
   "cell_type": "code",
   "execution_count": 4,
   "metadata": {},
   "outputs": [
    {
     "ename": "NameError",
     "evalue": "name 'euler' is not defined",
     "output_type": "error",
     "traceback": [
      "\u001b[0;31m---------------------------------------------------------------------------\u001b[0m",
      "\u001b[0;31mNameError\u001b[0m                                 Traceback (most recent call last)",
      "\u001b[0;32m<ipython-input-4-1a5f89a90e6a>\u001b[0m in \u001b[0;36m<module>\u001b[0;34m()\u001b[0m\n\u001b[0;32m----> 1\u001b[0;31m \u001b[0msum\u001b[0m\u001b[0;34m(\u001b[0m\u001b[0meuler\u001b[0m\u001b[0;34m.\u001b[0m\u001b[0msieve_of_eratosthenes\u001b[0m\u001b[0;34m(\u001b[0m\u001b[0;36m2000000\u001b[0m\u001b[0;34m)\u001b[0m\u001b[0;34m)\u001b[0m\u001b[0;34m\u001b[0m\u001b[0m\n\u001b[0m",
      "\u001b[0;31mNameError\u001b[0m: name 'euler' is not defined"
     ]
    }
   ],
   "source": [
    "sum(euler.sieve_of_eratosthenes(2000000))"
   ]
  },
  {
   "cell_type": "markdown",
   "metadata": {},
   "source": [
    "# Problem 11"
   ]
  },
  {
   "cell_type": "code",
   "execution_count": 12,
   "metadata": {},
   "outputs": [
    {
     "data": {
      "text/plain": [
       "[70600674, [246, 265, 284, 303]]"
      ]
     },
     "execution_count": 12,
     "metadata": {},
     "output_type": "execute_result"
    }
   ],
   "source": [
    "grid = \"08 02 22 97 38 15 00 40 00 75 04 05 07 78 52 12 50 77 91 08 49 49 99 40 17 81 18 57 60 87 17 40 98 43 69 48 04 56 62 00 81 49 31 73 55 79 14 29 93 71 40 67 53 88 30 03 49 13 36 65 52 70 95 23 04 60 11 42 69 24 68 56 01 32 56 71 37 02 36 91 22 31 16 71 51 67 63 89 41 92 36 54 22 40 40 28 66 33 13 80 24 47 32 60 99 03 45 02 44 75 33 53 78 36 84 20 35 17 12 50 32 98 81 28 64 23 67 10 26 38 40 67 59 54 70 66 18 38 64 70 67 26 20 68 02 62 12 20 95 63 94 39 63 08 40 91 66 49 94 21 24 55 58 05 66 73 99 26 97 17 78 78 96 83 14 88 34 89 63 72 21 36 23 09 75 00 76 44 20 45 35 14 00 61 33 97 34 31 33 95 78 17 53 28 22 75 31 67 15 94 03 80 04 62 16 14 09 53 56 92 16 39 05 42 96 35 31 47 55 58 88 24 00 17 54 24 36 29 85 57 86 56 00 48 35 71 89 07 05 44 44 37 44 60 21 58 51 54 17 58 19 80 81 68 05 94 47 69 28 73 92 13 86 52 17 77 04 89 55 40 04 52 08 83 97 35 99 16 07 97 57 32 16 26 26 79 33 27 98 66 88 36 68 87 57 62 20 72 03 46 33 67 46 55 12 32 63 93 53 69 04 42 16 73 38 25 39 11 24 94 72 18 08 46 29 32 40 62 76 36 20 69 36 41 72 30 23 88 34 62 99 69 82 67 59 85 74 04 36 16 20 73 35 29 78 31 90 01 74 31 49 71 48 86 81 16 23 57 05 54 01 70 54 71 83 51 54 69 16 92 33 48 61 43 52 01 89 19 67 48\"\n",
    "grid = [int(i) for i in grid.split(\" \")]\n",
    "directions = [  [0, -20, -40, -60],  #up\n",
    "                [0, 20, 40, 60],     #down\n",
    "                [0, -1, -2, -3],     #left\n",
    "                [0, 1, 2, 3],        #right\n",
    "                [0, -19, -38, -57],  #d1\n",
    "                [0, 21, 42, 53],     #d2\n",
    "                [0, 19, 38, 57],     #d3\n",
    "                [0, -21, -42, -53] ] #d4\n",
    "best = [0, 0]\n",
    "for i in range(len(grid)-3*21):\n",
    "    candidates = [ [i+j for j in direction] for direction in directions ]\n",
    "    for c in candidates:\n",
    "        try:\n",
    "            product = prod([grid[j] for j in c])\n",
    "        except:\n",
    "            product = 0\n",
    "        if product > best[0]:\n",
    "            best = [product, c]\n",
    "best"
   ]
  },
  {
   "cell_type": "markdown",
   "metadata": {},
   "source": [
    "# Problem 12"
   ]
  },
  {
   "cell_type": "code",
   "execution_count": 13,
   "metadata": {},
   "outputs": [
    {
     "data": {
      "text/plain": [
       "76576500"
      ]
     },
     "execution_count": 13,
     "metadata": {},
     "output_type": "execute_result"
    }
   ],
   "source": [
    "def triangle_generator(n):\n",
    "    x = sum(range(1,n+1))\n",
    "    yield x\n",
    "    while True:\n",
    "        n += 1\n",
    "        x += n\n",
    "        yield x\n",
    "def num_divisors(n):\n",
    "    prime_dict = {}\n",
    "    primes = prime_factor(n)\n",
    "    for p in primes:\n",
    "        try:\n",
    "            prime_dict[p] += 1\n",
    "        except:\n",
    "            prime_dict[p] = 1\n",
    "    return prod([n+1 for n in prime_dict.values()])\n",
    "for i in triangle_generator(1):\n",
    "    if num_divisors(i) > 500:\n",
    "        answer = i\n",
    "        break\n",
    "answer"
   ]
  },
  {
   "cell_type": "markdown",
   "metadata": {},
   "source": [
    "# Problem 13"
   ]
  },
  {
   "cell_type": "code",
   "execution_count": 14,
   "metadata": {},
   "outputs": [
    {
     "data": {
      "text/plain": [
       "5537376230390876637302048746832985971773659831892672"
      ]
     },
     "execution_count": 14,
     "metadata": {},
     "output_type": "execute_result"
    }
   ],
   "source": [
    "numbers = \"\"\"37107287533902102798797998220837590246510135740250\n",
    "46376937677490009712648124896970078050417018260538\n",
    "74324986199524741059474233309513058123726617309629\n",
    "91942213363574161572522430563301811072406154908250\n",
    "23067588207539346171171980310421047513778063246676\n",
    "89261670696623633820136378418383684178734361726757\n",
    "28112879812849979408065481931592621691275889832738\n",
    "44274228917432520321923589422876796487670272189318\n",
    "47451445736001306439091167216856844588711603153276\n",
    "70386486105843025439939619828917593665686757934951\n",
    "62176457141856560629502157223196586755079324193331\n",
    "64906352462741904929101432445813822663347944758178\n",
    "92575867718337217661963751590579239728245598838407\n",
    "58203565325359399008402633568948830189458628227828\n",
    "80181199384826282014278194139940567587151170094390\n",
    "35398664372827112653829987240784473053190104293586\n",
    "86515506006295864861532075273371959191420517255829\n",
    "71693888707715466499115593487603532921714970056938\n",
    "54370070576826684624621495650076471787294438377604\n",
    "53282654108756828443191190634694037855217779295145\n",
    "36123272525000296071075082563815656710885258350721\n",
    "45876576172410976447339110607218265236877223636045\n",
    "17423706905851860660448207621209813287860733969412\n",
    "81142660418086830619328460811191061556940512689692\n",
    "51934325451728388641918047049293215058642563049483\n",
    "62467221648435076201727918039944693004732956340691\n",
    "15732444386908125794514089057706229429197107928209\n",
    "55037687525678773091862540744969844508330393682126\n",
    "18336384825330154686196124348767681297534375946515\n",
    "80386287592878490201521685554828717201219257766954\n",
    "78182833757993103614740356856449095527097864797581\n",
    "16726320100436897842553539920931837441497806860984\n",
    "48403098129077791799088218795327364475675590848030\n",
    "87086987551392711854517078544161852424320693150332\n",
    "59959406895756536782107074926966537676326235447210\n",
    "69793950679652694742597709739166693763042633987085\n",
    "41052684708299085211399427365734116182760315001271\n",
    "65378607361501080857009149939512557028198746004375\n",
    "35829035317434717326932123578154982629742552737307\n",
    "94953759765105305946966067683156574377167401875275\n",
    "88902802571733229619176668713819931811048770190271\n",
    "25267680276078003013678680992525463401061632866526\n",
    "36270218540497705585629946580636237993140746255962\n",
    "24074486908231174977792365466257246923322810917141\n",
    "91430288197103288597806669760892938638285025333403\n",
    "34413065578016127815921815005561868836468420090470\n",
    "23053081172816430487623791969842487255036638784583\n",
    "11487696932154902810424020138335124462181441773470\n",
    "63783299490636259666498587618221225225512486764533\n",
    "67720186971698544312419572409913959008952310058822\n",
    "95548255300263520781532296796249481641953868218774\n",
    "76085327132285723110424803456124867697064507995236\n",
    "37774242535411291684276865538926205024910326572967\n",
    "23701913275725675285653248258265463092207058596522\n",
    "29798860272258331913126375147341994889534765745501\n",
    "18495701454879288984856827726077713721403798879715\n",
    "38298203783031473527721580348144513491373226651381\n",
    "34829543829199918180278916522431027392251122869539\n",
    "40957953066405232632538044100059654939159879593635\n",
    "29746152185502371307642255121183693803580388584903\n",
    "41698116222072977186158236678424689157993532961922\n",
    "62467957194401269043877107275048102390895523597457\n",
    "23189706772547915061505504953922979530901129967519\n",
    "86188088225875314529584099251203829009407770775672\n",
    "11306739708304724483816533873502340845647058077308\n",
    "82959174767140363198008187129011875491310547126581\n",
    "97623331044818386269515456334926366572897563400500\n",
    "42846280183517070527831839425882145521227251250327\n",
    "55121603546981200581762165212827652751691296897789\n",
    "32238195734329339946437501907836945765883352399886\n",
    "75506164965184775180738168837861091527357929701337\n",
    "62177842752192623401942399639168044983993173312731\n",
    "32924185707147349566916674687634660915035914677504\n",
    "99518671430235219628894890102423325116913619626622\n",
    "73267460800591547471830798392868535206946944540724\n",
    "76841822524674417161514036427982273348055556214818\n",
    "97142617910342598647204516893989422179826088076852\n",
    "87783646182799346313767754307809363333018982642090\n",
    "10848802521674670883215120185883543223812876952786\n",
    "71329612474782464538636993009049310363619763878039\n",
    "62184073572399794223406235393808339651327408011116\n",
    "66627891981488087797941876876144230030984490851411\n",
    "60661826293682836764744779239180335110989069790714\n",
    "85786944089552990653640447425576083659976645795096\n",
    "66024396409905389607120198219976047599490197230297\n",
    "64913982680032973156037120041377903785566085089252\n",
    "16730939319872750275468906903707539413042652315011\n",
    "94809377245048795150954100921645863754710598436791\n",
    "78639167021187492431995700641917969777599028300699\n",
    "15368713711936614952811305876380278410754449733078\n",
    "40789923115535562561142322423255033685442488917353\n",
    "44889911501440648020369068063960672322193204149535\n",
    "41503128880339536053299340368006977710650566631954\n",
    "81234880673210146739058568557934581403627822703280\n",
    "82616570773948327592232845941706525094512325230608\n",
    "22918802058777319719839450180888072429661980811197\n",
    "77158542502016545090413245809786882778948721859617\n",
    "72107838435069186155435662884062257473692284509516\n",
    "20849603980134001723930671666823555245252804609722\n",
    "53503534226472524250874054075591789781264330331690\"\"\"\n",
    "numbers = [int(i) for i in numbers.split(\"\\n\")]\n",
    "sum(numbers)"
   ]
  },
  {
   "cell_type": "markdown",
   "metadata": {},
   "source": [
    "# Problem 14"
   ]
  },
  {
   "cell_type": "code",
   "execution_count": 15,
   "metadata": {},
   "outputs": [
    {
     "data": {
      "text/plain": [
       "[524, 837799]"
      ]
     },
     "execution_count": 15,
     "metadata": {},
     "output_type": "execute_result"
    }
   ],
   "source": [
    "def collatz_generator(n):\n",
    "    while True:\n",
    "        if n%2 == 0:\n",
    "            n = n//2\n",
    "            yield n\n",
    "        elif n!=1:\n",
    "            n = 3*n+1\n",
    "            yield n\n",
    "        else:\n",
    "            return\n",
    "best = [0, 0]\n",
    "for i in range(1,1000000):\n",
    "    l = len(list(collatz_generator(i)))\n",
    "    if l > best[0]:\n",
    "        best = [l, i]\n",
    "best"
   ]
  },
  {
   "cell_type": "markdown",
   "metadata": {},
   "source": [
    "# Problem 15"
   ]
  },
  {
   "cell_type": "code",
   "execution_count": 16,
   "metadata": {},
   "outputs": [
    {
     "data": {
      "text/plain": [
       "137846528820"
      ]
     },
     "execution_count": 16,
     "metadata": {},
     "output_type": "execute_result"
    }
   ],
   "source": [
    "from scipy.misc import comb\n",
    "comb(40,20,exact=True)"
   ]
  },
  {
   "cell_type": "markdown",
   "metadata": {},
   "source": [
    "# Problem 16"
   ]
  },
  {
   "cell_type": "code",
   "execution_count": 17,
   "metadata": {},
   "outputs": [
    {
     "data": {
      "text/plain": [
       "1366"
      ]
     },
     "execution_count": 17,
     "metadata": {},
     "output_type": "execute_result"
    }
   ],
   "source": [
    "sum([ int(i) for i in str(2**1000)])"
   ]
  },
  {
   "cell_type": "markdown",
   "metadata": {},
   "source": [
    "# Problem 17"
   ]
  },
  {
   "cell_type": "code",
   "execution_count": 18,
   "metadata": {},
   "outputs": [
    {
     "ename": "ModuleNotFoundError",
     "evalue": "No module named 'num2words'",
     "output_type": "error",
     "traceback": [
      "\u001b[0;31m---------------------------------------------------------------------------\u001b[0m",
      "\u001b[0;31mModuleNotFoundError\u001b[0m                       Traceback (most recent call last)",
      "\u001b[0;32m<ipython-input-18-336e2b75ff13>\u001b[0m in \u001b[0;36m<module>\u001b[0;34m()\u001b[0m\n\u001b[0;32m----> 1\u001b[0;31m \u001b[0;32mfrom\u001b[0m \u001b[0mnum2words\u001b[0m \u001b[0;32mimport\u001b[0m \u001b[0mnum2words\u001b[0m\u001b[0;34m\u001b[0m\u001b[0m\n\u001b[0m\u001b[1;32m      2\u001b[0m \u001b[0mwords\u001b[0m \u001b[0;34m=\u001b[0m \u001b[0;34m[\u001b[0m\u001b[0mnum2words\u001b[0m\u001b[0;34m(\u001b[0m\u001b[0mi\u001b[0m\u001b[0;34m)\u001b[0m \u001b[0;32mfor\u001b[0m \u001b[0mi\u001b[0m \u001b[0;32min\u001b[0m \u001b[0mrange\u001b[0m\u001b[0;34m(\u001b[0m\u001b[0;36m1\u001b[0m\u001b[0;34m,\u001b[0m\u001b[0;36m1000\u001b[0m\u001b[0;34m+\u001b[0m\u001b[0;36m1\u001b[0m\u001b[0;34m)\u001b[0m\u001b[0;34m]\u001b[0m\u001b[0;34m\u001b[0m\u001b[0m\n\u001b[1;32m      3\u001b[0m \u001b[0mwords_removed\u001b[0m \u001b[0;34m=\u001b[0m \u001b[0;34m[\u001b[0m \u001b[0;34m[\u001b[0m \u001b[0mi\u001b[0m \u001b[0;32mfor\u001b[0m \u001b[0mi\u001b[0m \u001b[0;32min\u001b[0m \u001b[0mw\u001b[0m \u001b[0;32mif\u001b[0m \u001b[0;34m(\u001b[0m\u001b[0mi\u001b[0m\u001b[0;34m!=\u001b[0m\u001b[0;34m' '\u001b[0m\u001b[0;34m)\u001b[0m\u001b[0;34m&\u001b[0m\u001b[0;34m(\u001b[0m\u001b[0mi\u001b[0m\u001b[0;34m!=\u001b[0m\u001b[0;34m'-'\u001b[0m\u001b[0;34m)\u001b[0m\u001b[0;34m]\u001b[0m \u001b[0;32mfor\u001b[0m \u001b[0mw\u001b[0m \u001b[0;32min\u001b[0m \u001b[0mwords\u001b[0m\u001b[0;34m]\u001b[0m\u001b[0;34m\u001b[0m\u001b[0m\n\u001b[1;32m      4\u001b[0m \u001b[0msum\u001b[0m\u001b[0;34m(\u001b[0m\u001b[0;34m[\u001b[0m \u001b[0mlen\u001b[0m\u001b[0;34m(\u001b[0m\u001b[0mi\u001b[0m\u001b[0;34m)\u001b[0m \u001b[0;32mfor\u001b[0m \u001b[0mi\u001b[0m \u001b[0;32min\u001b[0m \u001b[0mwords_removed\u001b[0m\u001b[0;34m]\u001b[0m\u001b[0;34m)\u001b[0m\u001b[0;34m\u001b[0m\u001b[0m\n",
      "\u001b[0;31mModuleNotFoundError\u001b[0m: No module named 'num2words'"
     ]
    }
   ],
   "source": [
    "from num2words import num2words\n",
    "words = [num2words(i) for i in range(1,1000+1)]\n",
    "words_removed = [ [ i for i in w if (i!=' ')&(i!='-')] for w in words]\n",
    "sum([ len(i) for i in words_removed])"
   ]
  },
  {
   "cell_type": "markdown",
   "metadata": {},
   "source": [
    "# Problem 18"
   ]
  },
  {
   "cell_type": "code",
   "execution_count": null,
   "metadata": {
    "collapsed": true
   },
   "outputs": [],
   "source": [
    "triangle = \"\"\"75\n",
    "95 64\n",
    "17 47 82\n",
    "18 35 87 10\n",
    "20 04 82 47 65\n",
    "19 01 23 75 03 34\n",
    "88 02 77 73 07 63 67\n",
    "99 65 04 28 06 16 70 92\n",
    "41 41 26 56 83 40 80 70 33\n",
    "41 48 72 33 47 32 37 16 94 29\n",
    "53 71 44 65 25 43 91 52 97 51 14\n",
    "70 11 33 28 77 73 17 78 39 68 17 57\n",
    "91 71 52 38 17 14 91 43 58 50 27 29 48\n",
    "63 66 04 68 89 53 67 30 73 16 69 87 40 31\n",
    "04 62 98 27 23 09 70 98 73 93 38 53 60 04 23\"\"\"\n",
    "triangle = [row for row in triangle.split(\"\\n\")]\n",
    "triangle = [ [int(i) for i in row.split()] for row in triangle]\n",
    "triangle_length = triangle\n",
    "for row_i in range(1,len(triangle)):\n",
    "    triangle_length[row_i][0] += triangle_length[row_i-1][0]\n",
    "    triangle_length[row_i][-1] += triangle_length[row_i-1][-1]\n",
    "    for pos_i in range(1,len(triangle[row_i])-1):\n",
    "        triangle_length[row_i][pos_i] += max(\n",
    "                triangle_length[row_i-1][pos_i-1],\n",
    "                triangle_length[row_i-1][pos_i])\n",
    "max(triangle_length[-1])"
   ]
  },
  {
   "cell_type": "markdown",
   "metadata": {},
   "source": [
    "# Problem 19"
   ]
  },
  {
   "cell_type": "code",
   "execution_count": null,
   "metadata": {
    "collapsed": true
   },
   "outputs": [],
   "source": [
    "import datetime\n",
    "sundays = 0\n",
    "for year in range(1901, 2000+1):\n",
    "    for month in range(1,12+1):\n",
    "        if datetime.date(year,month,1).weekday() == 6:\n",
    "            sundays += 1\n",
    "sundays"
   ]
  },
  {
   "cell_type": "markdown",
   "metadata": {},
   "source": [
    "# Problem 20"
   ]
  },
  {
   "cell_type": "code",
   "execution_count": null,
   "metadata": {
    "collapsed": true
   },
   "outputs": [],
   "source": [
    "import math\n",
    "sum([int(i) for i in str(math.factorial(100))])ii"
   ]
  },
  {
   "cell_type": "markdown",
   "metadata": {},
   "source": [
    "# Problem 21"
   ]
  },
  {
   "cell_type": "code",
   "execution_count": null,
   "metadata": {
    "collapsed": true
   },
   "outputs": [],
   "source": [
    "def sum_of_divisors(n):\n",
    "    factors = prime_factors(n)\n",
    "    return prod([(key**(factors[key]+1)-1)/(key-1) for key in factors.keys()])\n",
    "\n",
    "candidates = set(i for i in range(2,10000+1))\n",
    "amicable = set()\n",
    "while candidates:\n",
    "    x = candidates.pop()\n",
    "    y = sum_of_divisors(x) - x\n",
    "    if (x!=y)&(x == sum_of_divisors(y)-y):\n",
    "        amicable.add(x)\n",
    "        amicable.add(y)\n",
    "sum([i for i in amicable])"
   ]
  },
  {
   "cell_type": "markdown",
   "metadata": {},
   "source": [
    "# Problem 22"
   ]
  },
  {
   "cell_type": "code",
   "execution_count": null,
   "metadata": {
    "collapsed": true
   },
   "outputs": [],
   "source": [
    "f = open('data/names.txt','r')\n",
    "names = f.read()\n",
    "names = [n.strip('\"') for n in names.split(',')]\n",
    "names.sort()\n",
    "name_score = [sum([ord(c)-ord('A')+1 for c in names[i]])*(i+1) \n",
    "                  for i in range(len(names))]\n",
    "sum(name_score)"
   ]
  },
  {
   "cell_type": "markdown",
   "metadata": {},
   "source": [
    "# Problem 23"
   ]
  },
  {
   "cell_type": "code",
   "execution_count": null,
   "metadata": {
    "collapsed": true
   },
   "outputs": [],
   "source": [
    "def list_abundant_numbers(n):\n",
    "    for i in range(12,n+1):\n",
    "        if sum_of_divisors(i)-i > i:\n",
    "            yield i\n",
    "target = set(i for i in range(1,28123+1))\n",
    "abundant_numbers = set(list_abundant_numbers(28123))\n",
    "abundant_numbers_copy = abundant_numbers.copy()\n",
    "for new in abundant_numbers_copy:\n",
    "    abundant_sum = set(new+i for i in abundant_numbers)\n",
    "    target = target - abundant_sum\n",
    "    abundant_numbers.remove(new)\n",
    "sum([i for i in target])"
   ]
  },
  {
   "cell_type": "markdown",
   "metadata": {},
   "source": [
    "# Problem 24"
   ]
  },
  {
   "cell_type": "code",
   "execution_count": null,
   "metadata": {
    "collapsed": true
   },
   "outputs": [],
   "source": [
    "from itertools import permutations\n",
    "digits = [i for i in range(10)]\n",
    "perms = [i for i in permutations(digits)]\n",
    "\"\".join([str(i) for i in perms[1000000-1]])"
   ]
  },
  {
   "cell_type": "markdown",
   "metadata": {},
   "source": [
    "# Problem 25"
   ]
  },
  {
   "cell_type": "code",
   "execution_count": null,
   "metadata": {
    "collapsed": true
   },
   "outputs": [],
   "source": [
    "def fibonacci():\n",
    "    a,b = 0,1\n",
    "    yield a\n",
    "    yield b\n",
    "    while True:\n",
    "        a, b = b, a + b\n",
    "        yield b\n",
    "a = fibonacci()\n",
    "b = 0\n",
    "i = 0\n",
    "while b < 10**(1000-1)-1:\n",
    "    b = next(a)\n",
    "    i += 1\n",
    "i-1"
   ]
  },
  {
   "cell_type": "markdown",
   "metadata": {},
   "source": [
    "# Problem 26"
   ]
  },
  {
   "cell_type": "code",
   "execution_count": null,
   "metadata": {
    "collapsed": true
   },
   "outputs": [],
   "source": [
    "#solve 10**(s) = 10**(s+t) (mod n) \n",
    "def recurrent_decimal_length(n):\n",
    "    numbers = []\n",
    "    for i in range(int(log10(n))+n):\n",
    "        new = 10**i % n\n",
    "        if new == 0:\n",
    "            return 0\n",
    "        elif new in numbers:\n",
    "            return i - numbers.index(new)\n",
    "        else:\n",
    "            numbers.append(new)\n",
    "    print(numbers)\n",
    "lengths = [recurrent_decimal_length(i) for i in range(1,1000)]\n",
    "max_length = max(lengths)\n",
    "lengths.index(max_length)+1"
   ]
  },
  {
   "cell_type": "markdown",
   "metadata": {},
   "source": [
    "# Problem 27"
   ]
  },
  {
   "cell_type": "code",
   "execution_count": null,
   "metadata": {
    "collapsed": true
   },
   "outputs": [],
   "source": [
    "a_list = [i for i in range(-1000+1,1000)]\n",
    "b_list = [i for i in range(1,1000) if is_prime(i)]\n",
    "def is_prime(n):\n",
    "    if n <1:\n",
    "        return False\n",
    "    prime_flag = True\n",
    "    for i in range(2,n//2+1):\n",
    "        if n%i == 0:\n",
    "            prime_flag = False\n",
    "            break\n",
    "    return prime_flag\n",
    "def quad_prime_length(a,b):\n",
    "    i = 1\n",
    "    while is_prime(i**2 + a*i + b):\n",
    "        i += 1\n",
    "    return i-1\n",
    "best = [0,0,0]\n",
    "for a in a_list:\n",
    "    for b in b_list:\n",
    "        if quad_prime_length(a,b) > best[0]:\n",
    "            best = [quad_prime_length(a,b), a, b]\n",
    "best[1]*best[2]"
   ]
  },
  {
   "cell_type": "markdown",
   "metadata": {},
   "source": [
    "# Problem 28"
   ]
  },
  {
   "cell_type": "code",
   "execution_count": null,
   "metadata": {
    "collapsed": true
   },
   "outputs": [],
   "source": [
    "width = [i for i in range(3,1001+2,2)]\n",
    "top_right = [i**2 for i in width]\n",
    "top_left = [i**2 - 1*(i - 1) for i in width]\n",
    "bottom_left = [i**2 - 2*(i - 1) for i in width]\n",
    "bottom_right = [i**2 - 3*(i - 1) for i in width]\n",
    "sum(top_right)+sum(top_left)+sum(bottom_left)+sum(bottom_right)+1"
   ]
  },
  {
   "cell_type": "markdown",
   "metadata": {},
   "source": [
    "# Problem 29"
   ]
  },
  {
   "cell_type": "code",
   "execution_count": null,
   "metadata": {
    "collapsed": true
   },
   "outputs": [],
   "source": [
    "len(unique([a**b for a in range(2,101) for b in range(2,101)]))"
   ]
  },
  {
   "cell_type": "markdown",
   "metadata": {},
   "source": [
    "# Problem 30"
   ]
  },
  {
   "cell_type": "code",
   "execution_count": null,
   "metadata": {
    "collapsed": true
   },
   "outputs": [],
   "source": [
    "sum([i for i in range(2,1000000) if i == sum([int(j)**5 for j in str(i)])])"
   ]
  },
  {
   "cell_type": "markdown",
   "metadata": {},
   "source": [
    "# Problem 31"
   ]
  },
  {
   "cell_type": "code",
   "execution_count": null,
   "metadata": {
    "collapsed": true
   },
   "outputs": [],
   "source": [
    "count = 0\n",
    "for num_1coin in range(0,201):\n",
    "    sum1 = num_1coin\n",
    "    for num_2coin in range(0,101):\n",
    "        sum2 = sum1+num_2coin*2\n",
    "        if sum2 > 200:\n",
    "            break\n",
    "        for num_5coin in range(0,41):\n",
    "            sum5 = sum2+num_5coin*5\n",
    "            if sum5 > 200:\n",
    "                break\n",
    "            for num_10coin in range(0,21):\n",
    "                sum10 = sum5+num_10coin*10\n",
    "                if sum10>200:\n",
    "                    break\n",
    "                for num_20coin in range(0,11):\n",
    "                    sum20 = sum10+num_20coin*20\n",
    "                    if sum20>200:\n",
    "                        break\n",
    "                    for num_50coin in range(0,5):\n",
    "                        sum50 = sum20+num_50coin*50\n",
    "                        if sum50 >200:\n",
    "                            break\n",
    "                        for num_100coin in range(0,3):\n",
    "                            sum100 = sum50+num_100coin*100\n",
    "                            if sum100>200:\n",
    "                                break\n",
    "                            for num_200coin in range(0,2):\n",
    "                                sum200 = sum100+num_200coin*200\n",
    "                                if sum200 == 200:\n",
    "                                    count += 1\n",
    "                                elif sum200 > 200:\n",
    "                                    break\n",
    "count"
   ]
  },
  {
   "cell_type": "markdown",
   "metadata": {},
   "source": [
    "# Problem 32"
   ]
  },
  {
   "cell_type": "code",
   "execution_count": null,
   "metadata": {
    "collapsed": true
   },
   "outputs": [],
   "source": [
    "pandigits = set()\n",
    "for i in range(int(sqrt(10**10))):\n",
    "    for j in range(i+1):\n",
    "        if len(str(i)+str(j)+str(i*j)) > 9:\n",
    "            break\n",
    "        candidate = set(k for k in str(i)) | set(k for k in str(j)) | set(k for k in str(i*j))\n",
    "        if candidate == set(k for k in \"123456789\"):\n",
    "            pandigits.add(i*j)\n",
    "sum(i for i in pandigits)"
   ]
  },
  {
   "cell_type": "markdown",
   "metadata": {},
   "source": [
    "# Problem 33"
   ]
  },
  {
   "cell_type": "code",
   "execution_count": null,
   "metadata": {
    "collapsed": true
   },
   "outputs": [],
   "source": [
    "dcf = []\n",
    "for first_num in range(11,100,1):\n",
    "    for second_num in range(11,first_num,1):\n",
    "        \n",
    "        if (first_num % 10 == 0) | (second_num % 10 == 0):\n",
    "            continue\n",
    "        \n",
    "        first_digits = set( i for i in str(first_num))\n",
    "        second_digits = set( i for i in str(second_num))\n",
    "        \n",
    "        if len(first_digits | second_digits) == 3:\n",
    "            \n",
    "            first_digit = first_digits - second_digits\n",
    "            first_digit = float(first_digit.pop())\n",
    "            second_digit = second_digits - first_digits\n",
    "            second_digit = float(second_digit.pop())\n",
    "            \n",
    "            fraction = second_digit/first_digit\n",
    "            \n",
    "#             print(\"first number: {0}, second number: {1}, fraction: {2}, digit cancel fraction: {3}\".format(\n",
    "#                     first_num, second_num, second_num/first_num, fraction))\n",
    "            \n",
    "            if fraction == (second_num/first_num):\n",
    "                \n",
    "#                 print(\"first number: {0}, second number: {1}, fraction: {2}, digit cancel fraction: {3}\".format(\n",
    "#                     first_num, second_num, second_num/first_num, fraction))\n",
    "                \n",
    "                dcf += [second_digit/first_digit]\n",
    "\n",
    "                \n",
    "#                 print(first_digits)\n",
    "#                 print(second_digits)\n",
    "\n",
    "prod(dcf)"
   ]
  },
  {
   "cell_type": "markdown",
   "metadata": {},
   "source": [
    "# Problem 34"
   ]
  },
  {
   "cell_type": "code",
   "execution_count": null,
   "metadata": {
    "collapsed": true
   },
   "outputs": [],
   "source": [
    "limit = 10**5\n",
    "df = [num for num in range(3,limit) \n",
    "      if sum([factorial(float(i)) for i in str(num)]) == num]\n",
    "sum(df)"
   ]
  },
  {
   "cell_type": "markdown",
   "metadata": {},
   "source": [
    "# Problem 35"
   ]
  },
  {
   "cell_type": "code",
   "execution_count": null,
   "metadata": {
    "collapsed": true
   },
   "outputs": [],
   "source": [
    "def circle_perms(i):\n",
    "    digits = str(i)\n",
    "    perms = set()\n",
    "    perms.add(int(digits))\n",
    "    for i in range(len(digits)-1):\n",
    "        digits = digits[-1] + digits[:-1]\n",
    "        perms.add(int(digits))\n",
    "    return perms\n",
    "#circle_perms(123)\n",
    "\n",
    "def find_circle_primes(maximum=10**2):\n",
    "    \n",
    "    primes = set(sieve_of_eratosthenes(maximum))\n",
    "    unchecked = primes.copy()\n",
    "    circle_primes = set()\n",
    "\n",
    "    while unchecked:\n",
    "        new_number = unchecked.pop()\n",
    "        new_perms = circle_perms(new_number)\n",
    "        prime = True\n",
    "        for n in new_perms:\n",
    "            if not n in primes:\n",
    "                prime = False\n",
    "                break\n",
    "        unchecked -= new_perms\n",
    "        if prime:\n",
    "            circle_primes |= new_perms\n",
    "            \n",
    "    return circle_primes\n",
    "\n",
    "# import cProfile\n",
    "\n",
    "# cProfile.run('find_circle_primes(10**6)')\n",
    "len(find_circle_primes(maximum=10**6))"
   ]
  },
  {
   "cell_type": "markdown",
   "metadata": {},
   "source": [
    "# Problem 36"
   ]
  },
  {
   "cell_type": "code",
   "execution_count": null,
   "metadata": {
    "collapsed": true
   },
   "outputs": [],
   "source": [
    "pal = [i for i in range(1,10**6) if str(i)==str(i)[::-1] \n",
    "       and bin(i)[2:]==bin(i)[2:][::-1]]\n",
    "sum(pal)"
   ]
  },
  {
   "cell_type": "markdown",
   "metadata": {},
   "source": [
    "# Problem 37"
   ]
  },
  {
   "cell_type": "code",
   "execution_count": null,
   "metadata": {
    "collapsed": true
   },
   "outputs": [],
   "source": [
    "def generate_truncate(i):\n",
    "    truncs = set()\n",
    "    digits = str(i)\n",
    "    truncs.add(i)\n",
    "    truncs |= set( int(digits[:j]) for j in range(1,len(digits)) )\n",
    "    truncs |= set( int(digits[j:]) for j in range(1,len(digits)) )\n",
    "    return truncs\n",
    "\n",
    "limit = 10**6\n",
    "primes = set(sieve_of_eratosthenes(limit))\n",
    "unchecked = primes.copy()\n",
    "trunc_primes = set()\n",
    "\n",
    "while unchecked:\n",
    "    new_number = unchecked.pop()\n",
    "    new_truncs = generate_truncate(new_number)\n",
    "    prime = True\n",
    "    for n in new_truncs:\n",
    "        if not n in primes:\n",
    "            prime = False\n",
    "            break\n",
    "    #unchecked -= new_truncs\n",
    "    if prime:\n",
    "        trunc_primes.add(new_number)\n",
    "\n",
    "trunc_primes = set(t for t in trunc_primes if t > 7)\n",
    "\n",
    "sum(list(trunc_primes))"
   ]
  },
  {
   "cell_type": "markdown",
   "metadata": {},
   "source": [
    "# Problem 38"
   ]
  },
  {
   "cell_type": "code",
   "execution_count": null,
   "metadata": {
    "collapsed": true
   },
   "outputs": [],
   "source": [
    "def pan_mult(n):\n",
    "    concat_string = \"\"\n",
    "    multiplier = 1\n",
    "    while len(concat_string) < 9:\n",
    "        concat_string += str(n*multiplier)\n",
    "        multiplier += 1\n",
    "    len_9 = len(concat_string) == 9\n",
    "    no_zero = '0' not in concat_string\n",
    "    pandigital = len(set(concat_string)) == 9\n",
    "    if len_9 and no_zero and pandigital:\n",
    "        return int(concat_string)\n",
    "    else:\n",
    "        return 0\n",
    "limit = 10**5\n",
    "pdm = set()\n",
    "for i in range(limit):\n",
    "    pdm.add(pan_mult(i))\n",
    "max(pdm)"
   ]
  },
  {
   "cell_type": "markdown",
   "metadata": {},
   "source": [
    "# Problem 39"
   ]
  },
  {
   "cell_type": "code",
   "execution_count": null,
   "metadata": {
    "collapsed": true
   },
   "outputs": [],
   "source": [
    "perimiter_count = dict()\n",
    "for i in range(1,1000):\n",
    "    for j in range(1,i):\n",
    "        k = sqrt(i**2 + j**2)\n",
    "        if (k % 1 == 0) and (i+j+k < 1000):\n",
    "            sides = sort((i,j,k))\n",
    "            try:\n",
    "                perimiter_count[i+j+k] += 1\n",
    "            except:\n",
    "                perimiter_count[i+j+k] = 1\n",
    "max_value = 0\n",
    "max_key = 0\n",
    "for key in perimiter_count.keys():\n",
    "    if perimiter_count[key] > max_value:\n",
    "        max_value = perimiter_count[key]\n",
    "        max_key = key\n",
    "max_key"
   ]
  },
  {
   "cell_type": "markdown",
   "metadata": {},
   "source": [
    "# Problem 40"
   ]
  },
  {
   "cell_type": "code",
   "execution_count": null,
   "metadata": {
    "collapsed": true
   },
   "outputs": [],
   "source": [
    "digit_string = \"\"\n",
    "i = 1\n",
    "while len(digit_string) < 10**6:\n",
    "    digit_string += str(i)\n",
    "    i += 1\n",
    "prod([int(digit_string[10**j-1]) for j in range(7)])"
   ]
  },
  {
   "cell_type": "markdown",
   "metadata": {},
   "source": [
    "# Problem 41"
   ]
  },
  {
   "cell_type": "code",
   "execution_count": null,
   "metadata": {
    "collapsed": true
   },
   "outputs": [],
   "source": [
    "import itertools\n",
    "digits = [str(i) for i in range(7,0,-1)]\n",
    "print(digits)\n",
    "\n",
    "for i in itertools.permutations(digits):\n",
    "    #print(i)\n",
    "    if is_prime(int(\"\".join(i))):\n",
    "        n = int(\"\".join(i))\n",
    "        print(n)\n",
    "        break"
   ]
  },
  {
   "cell_type": "markdown",
   "metadata": {},
   "source": [
    "# Problem 42"
   ]
  },
  {
   "cell_type": "code",
   "execution_count": null,
   "metadata": {
    "collapsed": true
   },
   "outputs": [],
   "source": [
    "f = open(\"data/words.txt\")\n",
    "words = f.read()\n",
    "words = [w.strip('\"') for w in words.split(',')]\n",
    "longest_length = 0\n",
    "for word in words:\n",
    "    if len(word) > longest_length:\n",
    "        longest_length = len(word)\n",
    "max_length = longest_length*26\n",
    "triangle_sequence = set([0])\n",
    "i = 1\n",
    "while max(triangle_sequence) < max_length:\n",
    "    triangle_sequence.add(.5*i*(i+1))\n",
    "    i += 1\n",
    "word_num = [sum([ord(c)-64 for c in w]) for w in words]\n",
    "ctn = [i for i in word_num if i in triangle_sequence ]\n",
    "len(ctn)"
   ]
  },
  {
   "cell_type": "markdown",
   "metadata": {},
   "source": [
    "# Problem 43"
   ]
  },
  {
   "cell_type": "code",
   "execution_count": null,
   "metadata": {
    "collapsed": true
   },
   "outputs": [],
   "source": [
    "def substring_divisible(i):\n",
    "    digits = {int(s) for s in str(i)}\n",
    "    if len(digits) != 10:\n",
    "        return False\n",
    "    divisibility_pairs = [(1,2),(2,3),(3,5),(4,7),(5,11),(6,13),(7,17)]\n",
    "    for pair in divisibility_pairs:\n",
    "        substring = str(i)[pair[0]:pair[0]+3]\n",
    "        if int(substring) % pair[1] != 0:\n",
    "            return False\n",
    "    return True\n",
    "# substring_divisible(1406357289)\n",
    "perms = [int(''.join(i)) for i in itertools.permutations(\"0123456789\")]\n",
    "sd = [i for i in perms if substring_divisible(i)]\n",
    "sum(sd)"
   ]
  },
  {
   "cell_type": "markdown",
   "metadata": {},
   "source": [
    "# Problem 44"
   ]
  },
  {
   "cell_type": "code",
   "execution_count": null,
   "metadata": {
    "collapsed": true
   },
   "outputs": [],
   "source": [
    "limit = 10**4\n",
    "p_num = lambda x : x*(3*x-1)/2\n",
    "pent_numbers = { p_num(i) for i in range(1,limit)}\n",
    "combs = itertools.combinations(pent_numbers,2)\n",
    "\n",
    "is_sum = lambda c : (c[0]+c[1]) in pent_numbers\n",
    "is_diff = lambda c : abs(c[0] - c[1]) in pent_numbers\n",
    "\n",
    "sym_pents = [ c for c in combs if (is_sum(c) and is_diff(c)) ]\n",
    "\n",
    "abs(sym_pents[0][0] - sym_pents[0][1])"
   ]
  },
  {
   "cell_type": "markdown",
   "metadata": {},
   "source": [
    "# Problem 45"
   ]
  },
  {
   "cell_type": "code",
   "execution_count": null,
   "metadata": {
    "collapsed": true
   },
   "outputs": [],
   "source": [
    "reload(euler)\n",
    "limit = 300000\n",
    "\n",
    "{t_num(i) for i in range(1,limit)} & {p_num(i) for i in range(1,limit)} & {h_num(i) for i in range(1,limit)}"
   ]
  },
  {
   "cell_type": "markdown",
   "metadata": {},
   "source": [
    "# Problem 46"
   ]
  },
  {
   "cell_type": "code",
   "execution_count": null,
   "metadata": {
    "collapsed": true
   },
   "outputs": [],
   "source": [
    "limit = 10000\n",
    "odd_nums = {i for i in range(limit) if i%2 == 1}\n",
    "prime_nums = set(sieve_of_eratosthenes(limit))\n",
    "square_nums = {2*(i**2) for i in range(int(sqrt(.5*limit)))}\n",
    "combs = {sum(c) for c in itertools.product(prime_nums,square_nums)}\n",
    "odd_nums - combs"
   ]
  },
  {
   "cell_type": "markdown",
   "metadata": {},
   "source": [
    "# Problem 47"
   ]
  },
  {
   "cell_type": "code",
   "execution_count": null,
   "metadata": {
    "collapsed": true
   },
   "outputs": [],
   "source": [
    "reload(euler)\n",
    "start_time = time.time()\n",
    "limit = 1000000\n",
    "target_factors = 4 # the number of distinct prime factors\n",
    "target_row = 4 # how many should have this in a row\n",
    "dict_num_factors = {} # reset dictionary\n",
    "def num_factors(n): # memoization function\n",
    "    if n not in dict_num_factors:\n",
    "        dict_num_factors[n] = len(set(euler.prime_factors(n)))\n",
    "    return dict_num_factors[n]\n",
    "\n",
    "for i in range(2,limit-target_row):\n",
    "    if all([num_factors(n)==target_factors for n in range(i,i+target_row)]):\n",
    "        print(i)\n",
    "        break\n",
    "print(\"{0} seconds elapsed\".format(time.time() - start_time))"
   ]
  },
  {
   "cell_type": "markdown",
   "metadata": {},
   "source": [
    "# Problem 48"
   ]
  },
  {
   "cell_type": "code",
   "execution_count": null,
   "metadata": {
    "collapsed": true
   },
   "outputs": [],
   "source": [
    "limit = 1000\n",
    "total = str(sum([i**i for i in range(1,limit+1)]))\n",
    "total[-10:]"
   ]
  },
  {
   "cell_type": "markdown",
   "metadata": {},
   "source": [
    "# Problem 49"
   ]
  },
  {
   "cell_type": "code",
   "execution_count": null,
   "metadata": {
    "collapsed": true
   },
   "outputs": [],
   "source": [
    "four_digit_primes = set(i for i in euler.sieve_of_eratosthenes(10000) if i > 1000) # find all 4 digit primes\n",
    "four_digit_dict = {}\n",
    "while four_digit_primes:\n",
    "    p = four_digit_primes.pop()\n",
    "    sorted_digits = int(''.join(sort(list(str(p)))))\n",
    "    if sorted_digits in four_digit_dict:\n",
    "        four_digit_dict[sorted_digits] += [p]\n",
    "    else:\n",
    "        four_digit_dict[sorted_digits] = [p]\n",
    "for s in four_digit_dict:\n",
    "    if len(four_digit_dict[s]) <= 3:\n",
    "        continue\n",
    "    for c in itertools.combinations(four_digit_dict[s],3):\n",
    "        primes = sort(c)\n",
    "#         print(primes)\n",
    "        if (primes[1] - primes[0]) == (primes[2] - primes[1]):\n",
    "            print(''.join([str(i) for i in primes]))\n"
   ]
  },
  {
   "cell_type": "markdown",
   "metadata": {},
   "source": [
    "# Problem 50"
   ]
  },
  {
   "cell_type": "code",
   "execution_count": null,
   "metadata": {
    "collapsed": true
   },
   "outputs": [],
   "source": [
    "limit = 1000000\n",
    "primes = set(euler.sieve_of_eratosthenes(limit))\n",
    "sorted_primes = sort(list(primes)) \n",
    "for seq_len in range(limit):\n",
    "    if sum(sorted_primes[0:seq_len]) > limit:\n",
    "        break\n",
    "    for i in range(len(sorted_primes) - seq_len):\n",
    "        sequence = sorted_primes[i:i+seq_len]\n",
    "        s_sum = sum(sequence)\n",
    "        if s_sum in primes:\n",
    "            seq_found = sequence\n",
    "            break\n",
    "print(\"{0}-length sequence sums to {1}\".format(len(seq_found),sum(seq_found)))"
   ]
  },
  {
   "cell_type": "markdown",
   "metadata": {},
   "source": [
    "# Problem 51"
   ]
  },
  {
   "cell_type": "code",
   "execution_count": null,
   "metadata": {
    "collapsed": true
   },
   "outputs": [],
   "source": [
    "limit = 1000000\n",
    "run_length = 8\n",
    "all_primes = set(euler.sieve_of_eratosthenes(limit))\n",
    "sorted_primes = sort(list(all_primes.copy()))\n",
    "digits10 = {str(i) for i in range(10)}\n",
    "digits9 = {str(i) for i in range(1,10)}\n",
    "def replace(input_string,target,replacement):\n",
    "    output_string = [replacement if c==target else c for c in input_string]\n",
    "    return ''.join(output_string)\n",
    "w_dict = {}\n",
    "for p in sorted_primes:\n",
    "    #find all positions of wildcard\n",
    "    p_str = str(p)\n",
    "    wildcards = unique([i for i in p_str])\n",
    "    for w in wildcards:\n",
    "        w_key = replace(p_str,target=w,replacement=\"*\")\n",
    "        if w_key in w_dict:\n",
    "            continue\n",
    "        digit_list = digits9 if w_key[0] == \"*\" else digits10\n",
    "        rep_list = set(int(replace(p_str,target=w,replacement=d)) for d in digit_list )\n",
    "        intersection_size = len(rep_list & all_primes)\n",
    "        w_dict[w_key] = intersection_size\n",
    "        \n",
    "        if intersection_size >= run_length:\n",
    "            print(\"length: {}, prime:{}, pattern:{}, family:{}\".format(intersection_size,p,w_key,rep_list))\n",
    "            break\n",
    "        "
   ]
  },
  {
   "cell_type": "markdown",
   "metadata": {},
   "source": [
    "# Problem 52"
   ]
  },
  {
   "cell_type": "code",
   "execution_count": null,
   "metadata": {
    "collapsed": true
   },
   "outputs": [],
   "source": [
    "multipliers = [2, 3, 4, 5, 6]\n",
    "current_base = 10\n",
    "\n",
    "\n",
    "while current_base < 10**6:\n",
    "    current_base *= 10\n",
    "    current_ceil = current_base*(10/6)\n",
    "    current_test = current_base + 1\n",
    "    while current_test <= current_ceil:\n",
    "        test_count = Counter(str(current_test))\n",
    "        test_flag = True\n",
    "        for m in multipliers:\n",
    "            if test_count != Counter(str(current_test*m)):\n",
    "                test_flag = False\n",
    "                break\n",
    "        if not test_flag:\n",
    "            current_test += 1\n",
    "            continue\n",
    "        else:\n",
    "            multiplied = [current_test*m for m in multipliers]\n",
    "            print(\"{}, {}\".format(current_test, multiplied))\n",
    "            break\n",
    "    if test_flag:\n",
    "        break\n",
    "            \n"
   ]
  },
  {
   "cell_type": "markdown",
   "metadata": {},
   "source": [
    "# Problem 53"
   ]
  },
  {
   "cell_type": "code",
   "execution_count": null,
   "metadata": {
    "collapsed": true
   },
   "outputs": [],
   "source": [
    "from scipy.special import binom\n",
    "count = 0\n",
    "for n in range(1,101):\n",
    "    for k in range(1,n):\n",
    "        if binom(n,k) > 10**6:\n",
    "            count += 1\n",
    "count"
   ]
  },
  {
   "cell_type": "markdown",
   "metadata": {},
   "source": [
    "# Problem 54"
   ]
  },
  {
   "cell_type": "code",
   "execution_count": null,
   "metadata": {
    "collapsed": true
   },
   "outputs": [],
   "source": [
    "# 1 High Card: Highest value card.\n",
    "# 2 One Pair: Two cards of the same value.\n",
    "# 3 Two Pairs: Two different pairs.\n",
    "# 4 Three of a Kind: Three cards of the same value.\n",
    "# 5 Straight: All cards are consecutive values.\n",
    "# 6 Flush: All cards of the same suit.\n",
    "# 7 Full House: Three of a kind and a pair.\n",
    "# 8 Four of a Kind: Four cards of the same value.\n",
    "# 9 Straight Flush: All cards are consecutive values of same suit."
   ]
  },
  {
   "cell_type": "code",
   "execution_count": null,
   "metadata": {
    "collapsed": true
   },
   "outputs": [],
   "source": [
    "def find_hand(cards):\n",
    "    \n",
    "    num_dict = {str(i):i for i in range(1,10)}\n",
    "    num_dict.update({\"T\":10,\"J\":11,\"Q\":12,\"K\":13, \"A\":14})\n",
    "    num_cards = sorted([num_dict[c[0]] for c in cards], reverse=True)\n",
    "    flush = all([cards[0][1] == c[1] for c in cards])\n",
    "    straight = (len(set(num_cards))==5)&(max(num_cards)-min(num_cards)==4)\n",
    "    \n",
    "    pairs = sorted({c1 for c1,c2 \n",
    "        in itertools.combinations(num_cards,2) if c1==c2}, reverse=True)\n",
    "    triples = list({c1 for c1,c2,c3 \n",
    "        in itertools.combinations(num_cards,3) if c1==c2==c3})\n",
    "    fours = list({c1 for c1,c2,c3,c4 \n",
    "        in itertools.combinations(num_cards,4) if c1==c2==c3==c4})\n",
    "    four_of_kind = len(fours) > 0\n",
    "    three_of_kind = len(triples) > 0\n",
    "    two_pair = len(pairs) > 1\n",
    "    pair = len(pairs) > 0\n",
    "    full_house = two_pair&three_of_kind\n",
    "    \n",
    "    value = 1; hand_cards = num_cards #high card\n",
    "    if pair: \n",
    "             value = 2; hand_cards = pairs  #pair\n",
    "    if two_pair: \n",
    "             value = 3; hand_cards = pairs #two pair\n",
    "    if three_of_kind: \n",
    "             value = 4; hand_cards = triples # three of a kind\n",
    "    if straight: \n",
    "             value = 5; hand_cards = num_cards #straing\n",
    "    if flush: \n",
    "             value = 6; hand_cards = num_cards # flush\n",
    "    if two_pair and three_of_kind: \n",
    "             value = 7; hand_cards = triples + pairs # full boat\n",
    "    if four_of_kind: \n",
    "             value = 8; hand_cards = fours # four of a kind\n",
    "    if straight and flush: \n",
    "             value = 9; hand_cards = num_cards # straightflush\n",
    "\n",
    "    return [value] + list(hand_cards) + sorted(num_cards, reverse=True)\n",
    "\n",
    "def compare_hands(p1,p2):\n",
    "    values1 = find_hand(p1)\n",
    "    va1ues2 = find_hand(p2)\n",
    "    for v1,v2 in zip(values1,va1ues2):\n",
    "        if v1!=v2:\n",
    "            return 1 if v1 > v2 else 2\n",
    "    return false"
   ]
  },
  {
   "cell_type": "code",
   "execution_count": null,
   "metadata": {
    "collapsed": true
   },
   "outputs": [],
   "source": [
    "test = [\"5H 5C 6S 7S KD 2C 3S 8S 8D TD\",\n",
    " \"5D 8C 9S JS AC 2C 5C 7D 8S QH\",\n",
    " \"2D 9C AS AH AC 3D 6D 7D TD QD\",\n",
    " \"4D 6S 9H QH QC 3D 6D 7H QD QS\",\n",
    " \"2H 2D 4C 4D 4S 3C 3D 3S 9S 9D\",\n",
    " \"2H 3H 4H 5H 6H 7H 3H 4H 5H 6H\"]\n",
    "for t in test:\n",
    "    cards = t.split(\" \")\n",
    "    p1 = cards[:5]; p2 = cards[5:10]\n",
    "    winner = compare_hands(p1,p2)\n",
    "    print(\"{} | {}, winner={}\".format(\" \".join(p1),\" \".join(p2),winner))\n",
    "    print(\"player 1: {}\".format(find_hand(p1)))\n",
    "    print(\"player 2: {} \\n\".format(find_hand(p2)))"
   ]
  },
  {
   "cell_type": "code",
   "execution_count": null,
   "metadata": {
    "collapsed": true,
    "scrolled": true
   },
   "outputs": [],
   "source": [
    "DEBUG = False\n",
    "f = open('data/poker.txt','r')\n",
    "p1_wins = 0\n",
    "for line in f:\n",
    "    cards = line[:29].split(\" \")\n",
    "    p1 = cards[:5]; p2 = cards[5:10]\n",
    "    winner = compare_hands(p1,p2)\n",
    "    if winner == 1:\n",
    "        p1_wins += 1\n",
    "    if DEBUG: \n",
    "        print(\"{} | {}, winner={}\".format(\" \".join(p1),\" \".join(p2),winner))\n",
    "        print(\"player 1: {}\".format(find_hand(p1)))\n",
    "        print(\"player 2: {} \\n\".format(find_hand(p2)))\n",
    "p1_wins"
   ]
  },
  {
   "cell_type": "markdown",
   "metadata": {},
   "source": [
    "# Problem 55"
   ]
  },
  {
   "cell_type": "code",
   "execution_count": null,
   "metadata": {
    "collapsed": true
   },
   "outputs": [],
   "source": [
    "def is_pal(x):\n",
    "    sx = str(x)\n",
    "    return sx==sx[::-1]\n",
    "def is_lychrel(x):\n",
    "    i = 0\n",
    "    while i<=50:\n",
    "        x += int(str(x)[::-1])\n",
    "        i += 1\n",
    "        if is_pal(x):\n",
    "            return False\n",
    "    return True\n",
    "assert is_lychrel(196)\n",
    "assert is_lychrel(4994)\n",
    "assert not is_lychrel(47)\n",
    "assert not is_lychrel(349)"
   ]
  },
  {
   "cell_type": "code",
   "execution_count": null,
   "metadata": {
    "collapsed": true
   },
   "outputs": [],
   "source": [
    "limit = 10**4\n",
    "\n",
    "lychrel_nums = [x for x in range(1,limit) if is_lychrel(x)]\n",
    "len(lychrel_nums)"
   ]
  },
  {
   "cell_type": "markdown",
   "metadata": {
    "collapsed": true
   },
   "source": [
    "# Problem 56"
   ]
  },
  {
   "cell_type": "code",
   "execution_count": null,
   "metadata": {
    "collapsed": true
   },
   "outputs": [],
   "source": [
    "int_str = [str(a**b) for a in range(100) for b in range(100)]\n",
    "max([sum([int(i) for i in s]) for s in int_str])"
   ]
  },
  {
   "cell_type": "markdown",
   "metadata": {
    "collapsed": true
   },
   "source": [
    "# Problem 57"
   ]
  },
  {
   "cell_type": "code",
   "execution_count": null,
   "metadata": {
    "collapsed": true
   },
   "outputs": [],
   "source": [
    "def root_two_exp(depth):\n",
    "    if depth == 0:\n",
    "        return Fraction(1) + Fraction(1,2)\n",
    "    bottom = Fraction(2) + Fraction(1,2)\n",
    "    for i in range(depth-1):\n",
    "        bottom = Fraction(2)+Fraction(1,bottom)\n",
    "    return Fraction(1) + Fraction(1,bottom)\n",
    "\n",
    "def digit_test_57(frac):\n",
    "    ndigits = len(str(frac.numerator))\n",
    "    ddigits = len(str(frac.denominator))\n",
    "    return ndigits > ddigits\n",
    "\n",
    "sum(digit_test_57(root_two_exp(i)) for i in range(1000))"
   ]
  },
  {
   "cell_type": "markdown",
   "metadata": {},
   "source": [
    "# Problem 58"
   ]
  },
  {
   "cell_type": "code",
   "execution_count": null,
   "metadata": {
    "collapsed": true
   },
   "outputs": [],
   "source": [
    "def square_diagonals(n=10):\n",
    "    index = 1\n",
    "    num_steps = 1\n",
    "    next_size = 2\n",
    "    while num_steps < n:\n",
    "        num_steps += 1\n",
    "        new_diagonals = []\n",
    "        for i in range(4):\n",
    "            index += next_size\n",
    "            new_diagonals.append(index)\n",
    "        next_size += 2\n",
    "        yield new_diagonals"
   ]
  },
  {
   "cell_type": "code",
   "execution_count": null,
   "metadata": {
    "collapsed": true
   },
   "outputs": [],
   "source": [
    "diagonals = [1]\n",
    "limit = 20000\n",
    "prime_limit = (limit*2-1)**2\n",
    "prime_list = set(euler.primesfrom2to(prime_limit))\n",
    "skip = limit//10\n",
    "cutoff = .1\n",
    "prime_count = 0 \n",
    "for i,row in enumerate(square_diagonals(n=limit),start=1):\n",
    "    prime_count += sum(list(map(lambda x: x in prime_list,row)))\n",
    "\n",
    "    prime_rate = prime_count / ( i*4+1 )\n",
    "    if i%skip ==0:\n",
    "        print(\"{} prime rate is at {} at row {} with sidelength {}\".format(row, prime_rate,i,i*2+1))\n",
    "    if prime_rate < cutoff:\n",
    "        print(\"{} prime rate is at {} at row {} with sidelength {}\".format(row, prime_rate,i,i*2+1))\n",
    "        break\n",
    "    "
   ]
  },
  {
   "cell_type": "markdown",
   "metadata": {
    "collapsed": true
   },
   "source": [
    "# Problem 59"
   ]
  },
  {
   "cell_type": "code",
   "execution_count": null,
   "metadata": {
    "collapsed": true
   },
   "outputs": [],
   "source": [
    "raw2dec = lambda raw: [int(s) for s in raw.split(\",\")]\n",
    "dec2txt = lambda data: \"\".join([chr(item) for item in data])\n",
    "\n",
    "def decrypt(dec_str, key):\n",
    "    new_dec_str = dec_str.copy()\n",
    "    key_size = len(key)\n",
    "    txt_size = len(dec_str)\n",
    "    for maj_idx in range(0,txt_size,key_size):\n",
    "        for min_idx in range(key_size):\n",
    "            if maj_idx+min_idx < txt_size:\n",
    "                new_dec_str[maj_idx+min_idx] = dec_str[maj_idx+min_idx]^key[min_idx]\n",
    "    return new_dec_str\n",
    "\n",
    "def txt_score(txt):\n",
    "    lwr_txt = txt.lower()\n",
    "    common_letters = [(12,\"e\"), (9,\"t\"), (8,\"a\"), \n",
    "                      (8,\"i\"), (8,\"n\"), (8,\"o\"), (8,\"s\")]\n",
    "    score = sum([w*lwr_txt.count(l) for (w,l) in common_letters])\n",
    "    score /= numpy.mean(list(zip(*common_letters))[0])\n",
    "    return score\n",
    "\n",
    "with open('data/cipher.txt', 'r') as f:\n",
    "    raw_data = f.read()\n",
    "dec_text = raw2dec(raw_data)\n",
    "\n",
    "top_key = [0]*3\n",
    "for key_idx in range(3):\n",
    "    best_score = 0\n",
    "    test_key = [0]*3\n",
    "    for char in range(97,123):\n",
    "        test_key[key_idx] = char\n",
    "        score = txt_score(dec2txt(decrypt(dec_text,test_key)))\n",
    "        if score > best_score:\n",
    "            best_score = score\n",
    "            top_key[key_idx] = char\n",
    "            # print(\"key: {} got a score of {}\".format(test_key,score))\n",
    "sum(decrypt(dec_text,top_key))"
   ]
  },
  {
   "cell_type": "markdown",
   "metadata": {
    "collapsed": true
   },
   "source": [
    "# Problem 60"
   ]
  },
  {
   "cell_type": "code",
   "execution_count": 19,
   "metadata": {},
   "outputs": [
    {
     "data": {
      "text/plain": [
       "26033"
      ]
     },
     "execution_count": 19,
     "metadata": {},
     "output_type": "execute_result"
    }
   ],
   "source": [
    "node_upper_limit = 2**14\n",
    "prime_upper_limit = int(str(node_upper_limit)+str(node_upper_limit))\n",
    "prime_set = set(euler.primesfrom2to(prime_upper_limit))\n",
    "prime_list = list(euler.primesfrom2to(node_upper_limit))\n",
    "prime_list = [str(i) for i in prime_list]\n",
    "def is_cat_prime(x,y):\n",
    "    cat1 = int(x+y)\n",
    "    cat2 = int(y+x)\n",
    "    return (cat1 in prime_set) & (cat2 in prime_set)\n",
    "num_primes = len(prime_list)\n",
    "cat_graph = nx.Graph()\n",
    "for x,y in itertools.combinations(prime_list,2):\n",
    "        if is_cat_prime(x, y):\n",
    "            cat_graph.add_edge(x,y)\n",
    "sum(int(i) for i in list(nx.k_clique_communities(cat_graph,5))[0])"
   ]
  },
  {
   "cell_type": "markdown",
   "metadata": {},
   "source": [
    "# Problem 61"
   ]
  },
  {
   "cell_type": "code",
   "execution_count": 104,
   "metadata": {
    "collapsed": true
   },
   "outputs": [],
   "source": [
    "def triangle(x): return x*(x+1)/2\n",
    "def square(x): return x*x\n",
    "def pentagonal(x): return x*(3*x-1)/2\n",
    "def hexagonal(x): return x*(2*x-1)\n",
    "def heptagonal(x): return x*(5*x-3)/2\n",
    "def octagonal(x): return x*(3*x-2)\n",
    "four_digit = lambda x: 4 > log10(x) >= 3\n",
    "\n",
    "triangles = set()\n",
    "squares = set()\n",
    "pentagons = set()\n",
    "hexagons = set()\n",
    "heptagons = set()\n",
    "octagons = set()\n",
    "opt_list = [(triangle, triangles), \n",
    "            (square, squares), \n",
    "            (pentagonal, pentagons),\n",
    "            (hexagonal, hexagons),\n",
    "            (heptagonal, heptagons),\n",
    "            (octagonal, octagons)]\n",
    "dict_list = []\n",
    "for i in range(1,141):\n",
    "    for func, f_set in opt_list:\n",
    "        number = int(func(i))\n",
    "        str_num = str(number)\n",
    "        if four_digit(number):\n",
    "            dict_list.append({\n",
    "                \"number\": number,\n",
    "                \"first_digits\": int(str_num[0:2]),\n",
    "                \"last_digits\": int(str_num[2:4]),\n",
    "                \"poly_type\": func.__name__\n",
    "            })\n",
    "poly_df = pandas.DataFrame(dict_list)\n",
    "\n",
    "def cyc_query(soln,df,debug=False):\n",
    "    if len(soln) > 0:\n",
    "        poly = [x.poly_type for x in soln]\n",
    "        q = f\"(poly_type not in {poly})\"\n",
    "        num = [x.number for x in soln]\n",
    "        q += f\"and (number not in {num})\"\n",
    "        last = soln[-1].last_digits\n",
    "        q += f\"and (first_digits=={last})\"\n",
    "        if len(soln) == 5:\n",
    "            first = soln[0].first_digits\n",
    "            q += f\"and (last_digits=={first})\"\n",
    "    else:\n",
    "        q = \"poly_type=='octagonal'\"\n",
    "    return poly_df.query(q)\n",
    "\n",
    "def cyc_fig_search(soln,df,debug=False):\n",
    "    \n",
    "    if debug:\n",
    "        pp_soln = [x.number for x in soln]\n",
    "        print(f\"Entering search with soln={pp_soln}\")\n",
    "\n",
    "    candidates = cyc_query(soln,poly_df)\n",
    "    if len(candidates) > 0:\n",
    "        for cand in candidates.itertuples():\n",
    "            soln.append(cand)\n",
    "            new_soln = cyc_fig_search(soln,df,debug)\n",
    "            if len(new_soln) == 6:\n",
    "                return new_soln\n",
    "            soln.pop()\n",
    "    \n",
    "    return soln"
   ]
  },
  {
   "cell_type": "code",
   "execution_count": 121,
   "metadata": {
    "collapsed": true
   },
   "outputs": [],
   "source": [
    "output = cyc_fig_search([],poly_df,debug=False)\n",
    "sum([x.number for x in output])"
   ]
  },
  {
   "cell_type": "markdown",
   "metadata": {
    "collapsed": true
   },
   "source": [
    "# Problem 62"
   ]
  },
  {
   "cell_type": "code",
   "execution_count": 140,
   "metadata": {},
   "outputs": [
    {
     "data": {
      "text/plain": [
       "127035954683"
      ]
     },
     "execution_count": 140,
     "metadata": {},
     "output_type": "execute_result"
    }
   ],
   "source": [
    "limit = 10**4\n",
    "cube_perms = dict()\n",
    "for i in range(limit):\n",
    "    cube = i**3\n",
    "    cube_char = [x for x in str(cube)]\n",
    "    cube_sorted = ''.join(sort(cube_char))\n",
    "    cube_perms[cube_sorted] = cube_perms.get(cube_sorted,[]) + [i]\n",
    "    \n",
    "    if len(cube_perms[cube_sorted]) == 5:\n",
    "        soln = cube_perms[cube_sorted]\n",
    "        break\n",
    "soln[0]**3"
   ]
  },
  {
   "cell_type": "markdown",
   "metadata": {},
   "source": [
    "# Problem 63"
   ]
  },
  {
   "cell_type": "code",
   "execution_count": 169,
   "metadata": {},
   "outputs": [
    {
     "data": {
      "text/plain": [
       "49"
      ]
     },
     "execution_count": 169,
     "metadata": {},
     "output_type": "execute_result"
    }
   ],
   "source": [
    "num_digits = lambda x: (numpy.log10(x) // 1) + 1\n",
    "exp_lim = 10**2\n",
    "\n",
    "pow_dig = {}\n",
    "for exponent in range(1,exp_lim):\n",
    "    pow_dig[exponent] = []\n",
    "    base = 1\n",
    "    cont_flag = True\n",
    "    while cont_flag:\n",
    "        res = float(base**exponent)\n",
    "        if num_digits(res) == exponent:\n",
    "            pow_dig[exponent] += [res]\n",
    "        if num_digits(res) > exponent:\n",
    "            cont_flag = False\n",
    "        base += 1\n",
    "sum(len(v) for v in pow_dig.values())"
   ]
  },
  {
   "cell_type": "code",
   "execution_count": null,
   "metadata": {
    "collapsed": true
   },
   "outputs": [],
   "source": []
  }
 ],
 "metadata": {
  "kernelspec": {
   "display_name": "Python 3",
   "language": "python",
   "name": "python3"
  },
  "language_info": {
   "codemirror_mode": {
    "name": "ipython",
    "version": 3
   },
   "file_extension": ".py",
   "mimetype": "text/x-python",
   "name": "python",
   "nbconvert_exporter": "python",
   "pygments_lexer": "ipython3",
   "version": "3.6.1"
  }
 },
 "nbformat": 4,
 "nbformat_minor": 1
}
